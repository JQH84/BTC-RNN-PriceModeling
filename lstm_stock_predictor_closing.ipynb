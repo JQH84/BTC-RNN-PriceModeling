{
 "cells": [
  {
   "cell_type": "markdown",
   "metadata": {},
   "source": [
    "# LSTM Stock Predictor Using Closing Prices\n",
    "\n",
    "In this notebook, you will build and train a custom LSTM RNN that uses a 10 day window of Bitcoin closing prices to predict the 11th day closing price. \n",
    "\n",
    "You will need to:\n",
    "\n",
    "1. Prepare the data for training and testing\n",
    "2. Build and train a custom LSTM RNN\n",
    "3. Evaluate the performance of the model"
   ]
  },
  {
   "cell_type": "markdown",
   "metadata": {},
   "source": [
    "## Data Preparation\n",
    "\n",
    "In this section, you will need to prepare the training and testing data for the model. The model will use a rolling 10 day window to predict the 11th day closing price.\n",
    "\n",
    "You will need to:\n",
    "1. Use the `window_data` function to generate the X and y values for the model.\n",
    "2. Split the data into 70% training and 30% testing\n",
    "3. Apply the MinMaxScaler to the X and y values\n",
    "4. Reshape the X_train and X_test data for the model. Note: The required input format for the LSTM is:\n",
    "\n",
    "```python\n",
    "reshape((X_train.shape[0], X_train.shape[1], 1))\n",
    "```"
   ]
  },
  {
   "cell_type": "code",
   "execution_count": 13,
   "metadata": {},
   "outputs": [],
   "source": [
    "import numpy as np\n",
    "import pandas as pd\n",
    "import hvplot.pandas"
   ]
  },
  {
   "cell_type": "code",
   "execution_count": 14,
   "metadata": {},
   "outputs": [],
   "source": [
    "# Set the random seed for reproducibility\n",
    "# Note: This is for the homework solution, but it is good practice to comment this out and run multiple experiments to evaluate your model\n",
    "from numpy.random import seed\n",
    "seed(1)\n",
    "from tensorflow import random\n",
    "random.set_seed(2)"
   ]
  },
  {
   "cell_type": "code",
   "execution_count": 15,
   "metadata": {},
   "outputs": [
    {
     "data": {
      "text/html": [
       "<div>\n",
       "<style scoped>\n",
       "    .dataframe tbody tr th:only-of-type {\n",
       "        vertical-align: middle;\n",
       "    }\n",
       "\n",
       "    .dataframe tbody tr th {\n",
       "        vertical-align: top;\n",
       "    }\n",
       "\n",
       "    .dataframe thead th {\n",
       "        text-align: right;\n",
       "    }\n",
       "</style>\n",
       "<table border=\"1\" class=\"dataframe\">\n",
       "  <thead>\n",
       "    <tr style=\"text-align: right;\">\n",
       "      <th></th>\n",
       "      <th>fng_value</th>\n",
       "    </tr>\n",
       "    <tr>\n",
       "      <th>date</th>\n",
       "      <th></th>\n",
       "    </tr>\n",
       "  </thead>\n",
       "  <tbody>\n",
       "    <tr>\n",
       "      <th>2019-07-29</th>\n",
       "      <td>19</td>\n",
       "    </tr>\n",
       "    <tr>\n",
       "      <th>2019-07-28</th>\n",
       "      <td>16</td>\n",
       "    </tr>\n",
       "    <tr>\n",
       "      <th>2019-07-27</th>\n",
       "      <td>47</td>\n",
       "    </tr>\n",
       "    <tr>\n",
       "      <th>2019-07-26</th>\n",
       "      <td>24</td>\n",
       "    </tr>\n",
       "    <tr>\n",
       "      <th>2019-07-25</th>\n",
       "      <td>42</td>\n",
       "    </tr>\n",
       "  </tbody>\n",
       "</table>\n",
       "</div>"
      ],
      "text/plain": [
       "             fng_value\n",
       "date                  \n",
       "2019-07-29          19\n",
       "2019-07-28          16\n",
       "2019-07-27          47\n",
       "2019-07-26          24\n",
       "2019-07-25          42"
      ]
     },
     "execution_count": 15,
     "metadata": {},
     "output_type": "execute_result"
    }
   ],
   "source": [
    "# Load the fear and greed sentiment data for Bitcoin\n",
    "df = pd.read_csv('Resources/btc_sentiment.csv', index_col=\"date\", infer_datetime_format=True, parse_dates=True)\n",
    "df = df.drop(columns=\"fng_classification\")\n",
    "df.head()"
   ]
  },
  {
   "cell_type": "code",
   "execution_count": 16,
   "metadata": {},
   "outputs": [
    {
     "data": {
      "text/plain": [
       "date\n",
       "2019-07-25    9882.429688\n",
       "2019-07-26    9847.450195\n",
       "2019-07-27    9478.320313\n",
       "2019-07-28    9531.769531\n",
       "2019-07-29    9529.889648\n",
       "Name: Close, dtype: float64"
      ]
     },
     "execution_count": 16,
     "metadata": {},
     "output_type": "execute_result"
    }
   ],
   "source": [
    "# Load the historical closing prices for Bitcoin\n",
    "df2 = pd.read_csv('Resources/btc_historic.csv', index_col=\"date\", infer_datetime_format=True, parse_dates=True)['Close']\n",
    "df2 = df2.sort_index()\n",
    "df2.tail()"
   ]
  },
  {
   "cell_type": "code",
   "execution_count": 17,
   "metadata": {},
   "outputs": [
    {
     "data": {
      "text/html": [
       "<div>\n",
       "<style scoped>\n",
       "    .dataframe tbody tr th:only-of-type {\n",
       "        vertical-align: middle;\n",
       "    }\n",
       "\n",
       "    .dataframe tbody tr th {\n",
       "        vertical-align: top;\n",
       "    }\n",
       "\n",
       "    .dataframe thead th {\n",
       "        text-align: right;\n",
       "    }\n",
       "</style>\n",
       "<table border=\"1\" class=\"dataframe\">\n",
       "  <thead>\n",
       "    <tr style=\"text-align: right;\">\n",
       "      <th></th>\n",
       "      <th>fng_value</th>\n",
       "      <th>Close</th>\n",
       "    </tr>\n",
       "    <tr>\n",
       "      <th>date</th>\n",
       "      <th></th>\n",
       "      <th></th>\n",
       "    </tr>\n",
       "  </thead>\n",
       "  <tbody>\n",
       "    <tr>\n",
       "      <th>2019-07-25</th>\n",
       "      <td>42</td>\n",
       "      <td>9882.429688</td>\n",
       "    </tr>\n",
       "    <tr>\n",
       "      <th>2019-07-26</th>\n",
       "      <td>24</td>\n",
       "      <td>9847.450195</td>\n",
       "    </tr>\n",
       "    <tr>\n",
       "      <th>2019-07-27</th>\n",
       "      <td>47</td>\n",
       "      <td>9478.320313</td>\n",
       "    </tr>\n",
       "    <tr>\n",
       "      <th>2019-07-28</th>\n",
       "      <td>16</td>\n",
       "      <td>9531.769531</td>\n",
       "    </tr>\n",
       "    <tr>\n",
       "      <th>2019-07-29</th>\n",
       "      <td>19</td>\n",
       "      <td>9529.889648</td>\n",
       "    </tr>\n",
       "  </tbody>\n",
       "</table>\n",
       "</div>"
      ],
      "text/plain": [
       "             fng_value        Close\n",
       "date                               \n",
       "2019-07-25          42  9882.429688\n",
       "2019-07-26          24  9847.450195\n",
       "2019-07-27          47  9478.320313\n",
       "2019-07-28          16  9531.769531\n",
       "2019-07-29          19  9529.889648"
      ]
     },
     "execution_count": 17,
     "metadata": {},
     "output_type": "execute_result"
    }
   ],
   "source": [
    "# Join the data into a single DataFrame\n",
    "df = df.join(df2, how=\"inner\")\n",
    "df.tail()"
   ]
  },
  {
   "cell_type": "code",
   "execution_count": 18,
   "metadata": {},
   "outputs": [
    {
     "data": {
      "text/html": [
       "<div>\n",
       "<style scoped>\n",
       "    .dataframe tbody tr th:only-of-type {\n",
       "        vertical-align: middle;\n",
       "    }\n",
       "\n",
       "    .dataframe tbody tr th {\n",
       "        vertical-align: top;\n",
       "    }\n",
       "\n",
       "    .dataframe thead th {\n",
       "        text-align: right;\n",
       "    }\n",
       "</style>\n",
       "<table border=\"1\" class=\"dataframe\">\n",
       "  <thead>\n",
       "    <tr style=\"text-align: right;\">\n",
       "      <th></th>\n",
       "      <th>fng_value</th>\n",
       "      <th>Close</th>\n",
       "    </tr>\n",
       "    <tr>\n",
       "      <th>date</th>\n",
       "      <th></th>\n",
       "      <th></th>\n",
       "    </tr>\n",
       "  </thead>\n",
       "  <tbody>\n",
       "    <tr>\n",
       "      <th>2018-02-01</th>\n",
       "      <td>30</td>\n",
       "      <td>9114.719727</td>\n",
       "    </tr>\n",
       "    <tr>\n",
       "      <th>2018-02-02</th>\n",
       "      <td>15</td>\n",
       "      <td>8870.820313</td>\n",
       "    </tr>\n",
       "    <tr>\n",
       "      <th>2018-02-03</th>\n",
       "      <td>40</td>\n",
       "      <td>9251.269531</td>\n",
       "    </tr>\n",
       "    <tr>\n",
       "      <th>2018-02-04</th>\n",
       "      <td>24</td>\n",
       "      <td>8218.049805</td>\n",
       "    </tr>\n",
       "    <tr>\n",
       "      <th>2018-02-05</th>\n",
       "      <td>11</td>\n",
       "      <td>6937.080078</td>\n",
       "    </tr>\n",
       "  </tbody>\n",
       "</table>\n",
       "</div>"
      ],
      "text/plain": [
       "             fng_value        Close\n",
       "date                               \n",
       "2018-02-01          30  9114.719727\n",
       "2018-02-02          15  8870.820313\n",
       "2018-02-03          40  9251.269531\n",
       "2018-02-04          24  8218.049805\n",
       "2018-02-05          11  6937.080078"
      ]
     },
     "execution_count": 18,
     "metadata": {},
     "output_type": "execute_result"
    }
   ],
   "source": [
    "df.head()"
   ]
  },
  {
   "cell_type": "code",
   "execution_count": 19,
   "metadata": {},
   "outputs": [],
   "source": [
    "# This function accepts the column number for the features (X) and the target (y)\n",
    "# It chunks the data up with a rolling window of Xt-n to predict Xt\n",
    "# It returns a numpy array of X any y\n",
    "def window_data(df, window, feature_col_number, target_col_number):\n",
    "    X = []\n",
    "    y = []\n",
    "    for i in range(len(df) - window -1  ):\n",
    "        features = df.iloc[i:(i + window), feature_col_number]\n",
    "        target = df.iloc[(i + window), target_col_number]\n",
    "        X.append(features)\n",
    "        y.append(target)\n",
    "    return np.array(X), np.array(y).reshape(-1, 1)"
   ]
  },
  {
   "cell_type": "code",
   "execution_count": 20,
   "metadata": {},
   "outputs": [],
   "source": [
    "# Predict Closing Prices using a 10 day window of previous closing prices\n",
    "# Then, experiment with window sizes anywhere from 1 to 10 and see how the model performance changes\n",
    "window_size = 10\n",
    "\n",
    "# Column index 0 is the 'fng_value' column\n",
    "# Column index 1 is the `Close` column\n",
    "feature_column = 1\n",
    "target_column = 1\n",
    "X, y = window_data(df, window_size, feature_column, target_column)\n"
   ]
  },
  {
   "cell_type": "code",
   "execution_count": 21,
   "metadata": {},
   "outputs": [],
   "source": [
    "# Use 70% of the data for training and the remaineder for testing\n",
    "from sklearn.model_selection import train_test_split\n",
    "\n",
    "X_train, X_test, y_train, y_test = train_test_split(X, y, random_state=78, train_size = 0.7)\n",
    "\n"
   ]
  },
  {
   "cell_type": "code",
   "execution_count": 23,
   "metadata": {},
   "outputs": [],
   "source": [
    "from sklearn.preprocessing import MinMaxScaler\n",
    "# Use the MinMaxScaler to scale data between 0 and 1.\n",
    "# Creating the scaler instance\n",
    "X_scaler = MinMaxScaler() \n",
    "y_scaler = MinMaxScaler()\n",
    "\n",
    "# fitting the minmax scaler to the features training set \n",
    "X_scaler.fit(X)\n",
    "\n",
    "# transforming the features traning and test sets using the scaler instance\n",
    "X_train = X_scaler.transform(X_train)\n",
    "X_test = X_scaler.transform(X_test)\n",
    "\n",
    "# fitting the minmax scaler to the taraget training set \n",
    "y_scaler.fit(y)\n",
    "\n",
    "# transforming the target traning and test sets using the scaler instance\n",
    "y_train = y_scaler.transform(y_train)\n",
    "y_test = y_scaler.transform(y_test)"
   ]
  },
  {
   "cell_type": "code",
   "execution_count": null,
   "metadata": {},
   "outputs": [],
   "source": [
    "# Reshape the features for the model\n",
    "X_train = X_train.reshape((X_train.shape[0], X_train.shape[1] ,1))\n",
    "X_test = X_test.reshape((X_test.shape[0], X_test.shape[1],1))\n",
    "print (f\"X_train sample values:\\n{X_train[:5]} \\n\")\n",
    "print (f\"X_test sample values:\\n{X_test[:5]}\")"
   ]
  },
  {
   "cell_type": "markdown",
   "metadata": {},
   "source": [
    "---"
   ]
  },
  {
   "cell_type": "markdown",
   "metadata": {},
   "source": [
    "## Build and Train the LSTM RNN\n",
    "\n",
    "In this section, you will design a custom LSTM RNN and fit (train) it using the training data.\n",
    "\n",
    "You will need to:\n",
    "1. Define the model architecture\n",
    "2. Compile the model\n",
    "3. Fit the model to the training data\n",
    "\n",
    "### Hints:\n",
    "You will want to use the same model architecture and random seed for both notebooks. This is necessary to accurately compare the performance of the FNG model vs the closing price model. "
   ]
  },
  {
   "cell_type": "code",
   "execution_count": 24,
   "metadata": {},
   "outputs": [],
   "source": [
    "from tensorflow.keras.models import Sequential\n",
    "from tensorflow.keras.layers import LSTM, Dense, Dropout"
   ]
  },
  {
   "cell_type": "code",
   "execution_count": 40,
   "metadata": {},
   "outputs": [],
   "source": [
    "# Build the LSTM model. \n",
    "# The return sequences need to be set to True if you are adding additional LSTM layers, but \n",
    "# You don't have to do this for the final layer. \n",
    "# Note: The dropouts help prevent overfitting\n",
    "# Note: The input shape is the number of time steps and the number of indicators\n",
    "# Note: Batching inputs has a different input shape of Samples/TimeSteps/Features\n",
    "\n",
    "# Assign the model to a variable model \n",
    "model = Sequential()\n",
    "\n",
    "# creating the dropout fraction and number of units for later trial and error testing\n",
    "number_units = 45\n",
    "dropout_function = 0.2\n",
    "\n",
    "# add the first LSTM layer\n",
    "model.add(LSTM(\n",
    "    units=number_units,\n",
    "    return_sequences=True,\n",
    "    input_shape=(X_train.shape[1], 1)))\n",
    "\n",
    "model.add(Dropout(dropout_function))\n",
    "\n",
    "#add layer 2 \n",
    "model.add(LSTM(\n",
    "    units = number_units,\n",
    "    \n",
    "))\n",
    "model.add(Dropout(dropout_function))\n",
    "\n",
    "# output layer \n",
    "model.add(Dense(1))\n",
    "   "
   ]
  },
  {
   "cell_type": "code",
   "execution_count": 41,
   "metadata": {},
   "outputs": [],
   "source": [
    "# Compile the model\n",
    "model.compile(optimizer=\"adam\", loss = \"mean_squared_error\") "
   ]
  },
  {
   "cell_type": "code",
   "execution_count": 42,
   "metadata": {},
   "outputs": [
    {
     "name": "stdout",
     "output_type": "stream",
     "text": [
      "Model: \"sequential_2\"\n",
      "_________________________________________________________________\n",
      " Layer (type)                Output Shape              Param #   \n",
      "=================================================================\n",
      " lstm_4 (LSTM)               (None, 10, 45)            8460      \n",
      "                                                                 \n",
      " dropout_4 (Dropout)         (None, 10, 45)            0         \n",
      "                                                                 \n",
      " lstm_5 (LSTM)               (None, 45)                16380     \n",
      "                                                                 \n",
      " dropout_5 (Dropout)         (None, 45)                0         \n",
      "                                                                 \n",
      " dense_2 (Dense)             (None, 1)                 46        \n",
      "                                                                 \n",
      "=================================================================\n",
      "Total params: 24,886\n",
      "Trainable params: 24,886\n",
      "Non-trainable params: 0\n",
      "_________________________________________________________________\n"
     ]
    }
   ],
   "source": [
    "# Summarize the model\n",
    "model.summary()"
   ]
  },
  {
   "cell_type": "code",
   "execution_count": 43,
   "metadata": {},
   "outputs": [
    {
     "name": "stdout",
     "output_type": "stream",
     "text": [
      "Epoch 1/20\n",
      "124/124 [==============================] - 7s 10ms/step - loss: 0.0137\n",
      "Epoch 2/20\n",
      "124/124 [==============================] - 1s 9ms/step - loss: 0.0073\n",
      "Epoch 3/20\n",
      "124/124 [==============================] - 1s 11ms/step - loss: 0.0063\n",
      "Epoch 4/20\n",
      "124/124 [==============================] - 1s 11ms/step - loss: 0.0060\n",
      "Epoch 5/20\n",
      "124/124 [==============================] - 1s 11ms/step - loss: 0.0058\n",
      "Epoch 6/20\n",
      "124/124 [==============================] - 1s 10ms/step - loss: 0.0058\n",
      "Epoch 7/20\n",
      "124/124 [==============================] - 1s 10ms/step - loss: 0.0047\n",
      "Epoch 8/20\n",
      "124/124 [==============================] - 1s 10ms/step - loss: 0.0046\n",
      "Epoch 9/20\n",
      "124/124 [==============================] - 1s 10ms/step - loss: 0.0045\n",
      "Epoch 10/20\n",
      "124/124 [==============================] - 1s 10ms/step - loss: 0.0041\n",
      "Epoch 11/20\n",
      "124/124 [==============================] - 1s 10ms/step - loss: 0.0037\n",
      "Epoch 12/20\n",
      "124/124 [==============================] - 1s 10ms/step - loss: 0.0040\n",
      "Epoch 13/20\n",
      "124/124 [==============================] - 1s 10ms/step - loss: 0.0044\n",
      "Epoch 14/20\n",
      "124/124 [==============================] - 1s 10ms/step - loss: 0.0037\n",
      "Epoch 15/20\n",
      "124/124 [==============================] - 1s 10ms/step - loss: 0.0037\n",
      "Epoch 16/20\n",
      "124/124 [==============================] - 1s 9ms/step - loss: 0.0035\n",
      "Epoch 17/20\n",
      "124/124 [==============================] - 1s 11ms/step - loss: 0.0034\n",
      "Epoch 18/20\n",
      "124/124 [==============================] - 1s 9ms/step - loss: 0.0030\n",
      "Epoch 19/20\n",
      "124/124 [==============================] - 1s 9ms/step - loss: 0.0031\n",
      "Epoch 20/20\n",
      "124/124 [==============================] - 1s 10ms/step - loss: 0.0028\n"
     ]
    },
    {
     "data": {
      "text/plain": [
       "<keras.callbacks.History at 0x7fc9a8018210>"
      ]
     },
     "execution_count": 43,
     "metadata": {},
     "output_type": "execute_result"
    }
   ],
   "source": [
    "# Train the model\n",
    "# Use at least 10 epochs\n",
    "# Do not shuffle the data\n",
    "# Experiement with the batch size, but a smaller batch size is recommended\n",
    "\n",
    "model.fit(X_train, y_train, epochs=20, shuffle=False, batch_size=3, verbose=1)"
   ]
  },
  {
   "cell_type": "markdown",
   "metadata": {},
   "source": [
    "---"
   ]
  },
  {
   "cell_type": "markdown",
   "metadata": {},
   "source": [
    "## Model Performance\n",
    "\n",
    "In this section, you will evaluate the model using the test data. \n",
    "\n",
    "You will need to:\n",
    "1. Evaluate the model using the `X_test` and `y_test` data.\n",
    "2. Use the X_test data to make predictions\n",
    "3. Create a DataFrame of Real (y_test) vs predicted values. \n",
    "4. Plot the Real vs predicted values as a line chart\n",
    "\n",
    "### Hints\n",
    "Remember to apply the `inverse_transform` function to the predicted and y_test values to recover the actual closing prices."
   ]
  },
  {
   "cell_type": "code",
   "execution_count": 44,
   "metadata": {},
   "outputs": [
    {
     "data": {
      "text/plain": [
       "array([0.1736277 , 0.18745615, 0.1884912 , 0.20335677, 0.21295618,\n",
       "       0.20337119, 0.21548803, 0.18759355, 0.19099616, 0.19090941])"
      ]
     },
     "execution_count": 44,
     "metadata": {},
     "output_type": "execute_result"
    }
   ],
   "source": [
    "X_test[0]"
   ]
  },
  {
   "cell_type": "code",
   "execution_count": 45,
   "metadata": {},
   "outputs": [
    {
     "name": "stdout",
     "output_type": "stream",
     "text": [
      "5/5 [==============================] - 1s 5ms/step - loss: 0.0016\n"
     ]
    },
    {
     "data": {
      "text/plain": [
       "0.0016366930212825537"
      ]
     },
     "execution_count": 45,
     "metadata": {},
     "output_type": "execute_result"
    }
   ],
   "source": [
    "# Evaluate the model\n",
    "model.evaluate(X_test, y_test)"
   ]
  },
  {
   "cell_type": "code",
   "execution_count": 46,
   "metadata": {},
   "outputs": [
    {
     "data": {
      "text/plain": [
       "array([[0.1736277 , 0.18745615, 0.1884912 , ..., 0.18759355, 0.19099616,\n",
       "        0.19090941],\n",
       "       [0.32841083, 0.30655104, 0.31160328, ..., 0.3360786 , 0.33980458,\n",
       "        0.3377758 ],\n",
       "       [0.786895  , 0.63950804, 0.66767832, ..., 0.73272683, 0.68399933,\n",
       "        0.67552782],\n",
       "       ...,\n",
       "       [0.3452215 , 0.33635859, 0.33435044, ..., 0.33507044, 0.33367799,\n",
       "        0.33310365],\n",
       "       [0.81240436, 0.74216413, 0.82119191, ..., 0.66866791, 0.65879059,\n",
       "        0.7327919 ],\n",
       "       [0.35910882, 0.36330271, 0.36031121, ..., 0.39195744, 0.41018946,\n",
       "        0.42029194]])"
      ]
     },
     "execution_count": 46,
     "metadata": {},
     "output_type": "execute_result"
    }
   ],
   "source": [
    "X_test"
   ]
  },
  {
   "cell_type": "code",
   "execution_count": 47,
   "metadata": {},
   "outputs": [],
   "source": [
    "# Make some predictions\n",
    "predicted = model.predict(X_test)\n"
   ]
  },
  {
   "cell_type": "code",
   "execution_count": 48,
   "metadata": {},
   "outputs": [],
   "source": [
    "# Recover the original prices instead of the scaled version\n",
    "predicted_prices =  y_scaler.inverse_transform(predicted)\n",
    "real_prices =   y_scaler.inverse_transform(y_test)"
   ]
  },
  {
   "cell_type": "code",
   "execution_count": 52,
   "metadata": {},
   "outputs": [
    {
     "data": {
      "text/html": [
       "<div>\n",
       "<style scoped>\n",
       "    .dataframe tbody tr th:only-of-type {\n",
       "        vertical-align: middle;\n",
       "    }\n",
       "\n",
       "    .dataframe tbody tr th {\n",
       "        vertical-align: top;\n",
       "    }\n",
       "\n",
       "    .dataframe thead th {\n",
       "        text-align: right;\n",
       "    }\n",
       "</style>\n",
       "<table border=\"1\" class=\"dataframe\">\n",
       "  <thead>\n",
       "    <tr style=\"text-align: right;\">\n",
       "      <th></th>\n",
       "      <th>Real</th>\n",
       "      <th>Predicted</th>\n",
       "      <th>Difference</th>\n",
       "    </tr>\n",
       "    <tr>\n",
       "      <th>date</th>\n",
       "      <th></th>\n",
       "      <th></th>\n",
       "      <th></th>\n",
       "    </tr>\n",
       "  </thead>\n",
       "  <tbody>\n",
       "    <tr>\n",
       "      <th>2019-02-20</th>\n",
       "      <td>5165.589844</td>\n",
       "      <td>5241.818359</td>\n",
       "      <td>-76.228515</td>\n",
       "    </tr>\n",
       "    <tr>\n",
       "      <th>2019-02-21</th>\n",
       "      <td>6261.479980</td>\n",
       "      <td>6592.841309</td>\n",
       "      <td>-331.361329</td>\n",
       "    </tr>\n",
       "    <tr>\n",
       "      <th>2019-02-22</th>\n",
       "      <td>9882.429688</td>\n",
       "      <td>9892.421875</td>\n",
       "      <td>-9.992187</td>\n",
       "    </tr>\n",
       "    <tr>\n",
       "      <th>2019-02-23</th>\n",
       "      <td>7371.959961</td>\n",
       "      <td>8073.342285</td>\n",
       "      <td>-701.382324</td>\n",
       "    </tr>\n",
       "    <tr>\n",
       "      <th>2019-02-24</th>\n",
       "      <td>6762.060059</td>\n",
       "      <td>6501.997559</td>\n",
       "      <td>260.062500</td>\n",
       "    </tr>\n",
       "  </tbody>\n",
       "</table>\n",
       "</div>"
      ],
      "text/plain": [
       "                   Real    Predicted  Difference\n",
       "date                                            \n",
       "2019-02-20  5165.589844  5241.818359  -76.228515\n",
       "2019-02-21  6261.479980  6592.841309 -331.361329\n",
       "2019-02-22  9882.429688  9892.421875   -9.992187\n",
       "2019-02-23  7371.959961  8073.342285 -701.382324\n",
       "2019-02-24  6762.060059  6501.997559  260.062500"
      ]
     },
     "execution_count": 52,
     "metadata": {},
     "output_type": "execute_result"
    }
   ],
   "source": [
    "# Create a DataFrame of Real and Predicted values and difference between them\n",
    "stocks = pd.DataFrame({\n",
    "    \"Real\": real_prices.ravel(),\n",
    "    \"Predicted\": predicted_prices.ravel(),\n",
    "    \"Difference\": real_prices.ravel() - predicted_prices.ravel()\n",
    "}, index = df.index[-len(real_prices): ])\n",
    "\n",
    "stocks.head()"
   ]
  },
  {
   "cell_type": "code",
   "execution_count": 71,
   "metadata": {},
   "outputs": [
    {
     "data": {},
     "metadata": {},
     "output_type": "display_data"
    },
    {
     "data": {
      "application/vnd.holoviews_exec.v0+json": "",
      "text/html": [
       "<div id='8302'>\n",
       "\n",
       "\n",
       "\n",
       "\n",
       "\n",
       "  <div class=\"bk-root\" id=\"5383d46c-25a1-462c-850a-ad6aaf695656\" data-root-id=\"8302\"></div>\n",
       "</div>\n",
       "<script type=\"application/javascript\">(function(root) {\n",
       "  function embed_document(root) {\n",
       "    var docs_json = {\"829a94f3-69d2-45b6-8cd9-c87fb9d66e3d\":{\"defs\":[{\"extends\":null,\"module\":null,\"name\":\"ReactiveHTML1\",\"overrides\":[],\"properties\":[]},{\"extends\":null,\"module\":null,\"name\":\"FlexBox1\",\"overrides\":[],\"properties\":[{\"default\":\"flex-start\",\"kind\":null,\"name\":\"align_content\"},{\"default\":\"flex-start\",\"kind\":null,\"name\":\"align_items\"},{\"default\":\"row\",\"kind\":null,\"name\":\"flex_direction\"},{\"default\":\"wrap\",\"kind\":null,\"name\":\"flex_wrap\"},{\"default\":\"flex-start\",\"kind\":null,\"name\":\"justify_content\"}]},{\"extends\":null,\"module\":null,\"name\":\"TemplateActions1\",\"overrides\":[],\"properties\":[{\"default\":0,\"kind\":null,\"name\":\"open_modal\"},{\"default\":0,\"kind\":null,\"name\":\"close_modal\"}]},{\"extends\":null,\"module\":null,\"name\":\"MaterialTemplateActions1\",\"overrides\":[],\"properties\":[{\"default\":0,\"kind\":null,\"name\":\"open_modal\"},{\"default\":0,\"kind\":null,\"name\":\"close_modal\"}]}],\"roots\":{\"references\":[{\"attributes\":{},\"id\":\"8595\",\"type\":\"BasicTicker\"},{\"attributes\":{\"axis\":{\"id\":\"8594\"},\"coordinates\":null,\"dimension\":1,\"grid_line_color\":null,\"group\":null,\"ticker\":null},\"id\":\"8597\",\"type\":\"Grid\"},{\"attributes\":{},\"id\":\"8322\",\"type\":\"BasicTicker\"},{\"attributes\":{\"months\":[0,6]},\"id\":\"8372\",\"type\":\"MonthsTicker\"},{\"attributes\":{\"axis\":{\"id\":\"8321\"},\"coordinates\":null,\"dimension\":1,\"grid_line_color\":null,\"group\":null,\"ticker\":null},\"id\":\"8324\",\"type\":\"Grid\"},{\"attributes\":{},\"id\":\"8345\",\"type\":\"Selection\"},{\"attributes\":{\"months\":[0,2,4,6,8,10]},\"id\":\"8370\",\"type\":\"MonthsTicker\"},{\"attributes\":{\"axis_label\":\"\",\"coordinates\":null,\"formatter\":{\"id\":\"8342\"},\"group\":null,\"major_label_policy\":{\"id\":\"8343\"},\"ticker\":{\"id\":\"8322\"}},\"id\":\"8321\",\"type\":\"LinearAxis\"},{\"attributes\":{\"fill_alpha\":{\"value\":0.1},\"fill_color\":{\"value\":\"#30a2da\"},\"hatch_alpha\":{\"value\":0.1},\"hatch_color\":{\"value\":\"#30a2da\"},\"line_alpha\":{\"value\":0.1},\"top\":{\"field\":\"Difference\"},\"width\":{\"value\":0.8},\"x\":{\"field\":\"date\"}},\"id\":\"8615\",\"type\":\"VBar\"},{\"attributes\":{\"coordinates\":null,\"data_source\":{\"id\":\"8377\"},\"glyph\":{\"id\":\"8380\"},\"group\":null,\"hover_glyph\":null,\"muted_glyph\":{\"id\":\"8382\"},\"nonselection_glyph\":{\"id\":\"8381\"},\"selection_glyph\":{\"id\":\"8410\"},\"view\":{\"id\":\"8384\"}},\"id\":\"8383\",\"type\":\"GlyphRenderer\"},{\"attributes\":{\"source\":{\"id\":\"8611\"}},\"id\":\"8618\",\"type\":\"CDSView\"},{\"attributes\":{},\"id\":\"8373\",\"type\":\"YearsTicker\"},{\"attributes\":{\"coordinates\":null,\"data_source\":{\"id\":\"8611\"},\"glyph\":{\"id\":\"8614\"},\"group\":null,\"hover_glyph\":null,\"muted_glyph\":{\"id\":\"8616\"},\"nonselection_glyph\":{\"id\":\"8615\"},\"selection_glyph\":{\"id\":\"8619\"},\"view\":{\"id\":\"8618\"}},\"id\":\"8617\",\"type\":\"GlyphRenderer\"},{\"attributes\":{},\"id\":\"8378\",\"type\":\"Selection\"},{\"attributes\":{\"toolbars\":[{\"id\":\"8331\"},{\"id\":\"8604\"}],\"tools\":[{\"id\":\"8306\"},{\"id\":\"8325\"},{\"id\":\"8326\"},{\"id\":\"8327\"},{\"id\":\"8328\"},{\"id\":\"8329\"},{\"id\":\"8581\"},{\"id\":\"8598\"},{\"id\":\"8599\"},{\"id\":\"8600\"},{\"id\":\"8601\"},{\"id\":\"8602\"}]},\"id\":\"8663\",\"type\":\"ProxyToolbar\"},{\"attributes\":{\"line_color\":\"#30a2da\",\"line_width\":2,\"x\":{\"field\":\"date\"},\"y\":{\"field\":\"value\"}},\"id\":\"8347\",\"type\":\"Line\"},{\"attributes\":{},\"id\":\"8598\",\"type\":\"SaveTool\"},{\"attributes\":{\"line_alpha\":0.1,\"line_color\":\"#30a2da\",\"line_width\":2,\"x\":{\"field\":\"date\"},\"y\":{\"field\":\"value\"}},\"id\":\"8348\",\"type\":\"Line\"},{\"attributes\":{\"label\":{\"value\":\"Real\"},\"renderers\":[{\"id\":\"8350\"}]},\"id\":\"8375\",\"type\":\"LegendItem\"},{\"attributes\":{},\"id\":\"8599\",\"type\":\"PanTool\"},{\"attributes\":{\"coordinates\":null,\"data_source\":{\"id\":\"8344\"},\"glyph\":{\"id\":\"8347\"},\"group\":null,\"hover_glyph\":null,\"muted_glyph\":{\"id\":\"8349\"},\"nonselection_glyph\":{\"id\":\"8348\"},\"selection_glyph\":{\"id\":\"8376\"},\"view\":{\"id\":\"8351\"}},\"id\":\"8350\",\"type\":\"GlyphRenderer\"},{\"attributes\":{\"line_color\":\"#30a2da\",\"line_width\":2,\"x\":{\"field\":\"date\"},\"y\":{\"field\":\"value\"}},\"id\":\"8376\",\"type\":\"Line\"},{\"attributes\":{},\"id\":\"8325\",\"type\":\"SaveTool\"},{\"attributes\":{\"line_alpha\":0.2,\"line_color\":\"#fc4f30\",\"line_width\":2,\"x\":{\"field\":\"date\"},\"y\":{\"field\":\"value\"}},\"id\":\"8382\",\"type\":\"Line\"},{\"attributes\":{},\"id\":\"8600\",\"type\":\"WheelZoomTool\"},{\"attributes\":{\"tools\":[{\"id\":\"8581\"},{\"id\":\"8598\"},{\"id\":\"8599\"},{\"id\":\"8600\"},{\"id\":\"8601\"},{\"id\":\"8602\"}]},\"id\":\"8604\",\"type\":\"Toolbar\"},{\"attributes\":{},\"id\":\"8326\",\"type\":\"PanTool\"},{\"attributes\":{\"line_color\":\"#fc4f30\",\"line_width\":2,\"x\":{\"field\":\"date\"},\"y\":{\"field\":\"value\"}},\"id\":\"8380\",\"type\":\"Line\"},{\"attributes\":{\"overlay\":{\"id\":\"8603\"}},\"id\":\"8601\",\"type\":\"BoxZoomTool\"},{\"attributes\":{},\"id\":\"8327\",\"type\":\"WheelZoomTool\"},{\"attributes\":{\"fill_color\":{\"value\":\"#30a2da\"},\"hatch_color\":{\"value\":\"#30a2da\"},\"top\":{\"field\":\"Difference\"},\"width\":{\"value\":0.8},\"x\":{\"field\":\"date\"}},\"id\":\"8614\",\"type\":\"VBar\"},{\"attributes\":{\"fill_alpha\":{\"value\":0.2},\"fill_color\":{\"value\":\"#30a2da\"},\"hatch_alpha\":{\"value\":0.2},\"hatch_color\":{\"value\":\"#30a2da\"},\"line_alpha\":{\"value\":0.2},\"top\":{\"field\":\"Difference\"},\"width\":{\"value\":0.8},\"x\":{\"field\":\"date\"}},\"id\":\"8616\",\"type\":\"VBar\"},{\"attributes\":{\"tools\":[{\"id\":\"8306\"},{\"id\":\"8325\"},{\"id\":\"8326\"},{\"id\":\"8327\"},{\"id\":\"8328\"},{\"id\":\"8329\"}]},\"id\":\"8331\",\"type\":\"Toolbar\"},{\"attributes\":{\"overlay\":{\"id\":\"8330\"}},\"id\":\"8328\",\"type\":\"BoxZoomTool\"},{\"attributes\":{\"line_alpha\":0.1,\"line_color\":\"#fc4f30\",\"line_width\":2,\"x\":{\"field\":\"date\"},\"y\":{\"field\":\"value\"}},\"id\":\"8381\",\"type\":\"Line\"},{\"attributes\":{},\"id\":\"8602\",\"type\":\"ResetTool\"},{\"attributes\":{\"end\":2143.5676752687505,\"reset_end\":2143.5676752687505,\"reset_start\":-1408.8928707062514,\"start\":-1408.8928707062514,\"tags\":[[[\"Difference\",\"Difference\",null]]]},\"id\":\"8580\",\"type\":\"Range1d\"},{\"attributes\":{\"bottom_units\":\"screen\",\"coordinates\":null,\"fill_alpha\":0.5,\"fill_color\":\"lightgrey\",\"group\":null,\"left_units\":\"screen\",\"level\":\"overlay\",\"line_alpha\":1.0,\"line_color\":\"black\",\"line_dash\":[4,4],\"line_width\":2,\"right_units\":\"screen\",\"syncable\":false,\"top_units\":\"screen\"},\"id\":\"8603\",\"type\":\"BoxAnnotation\"},{\"attributes\":{},\"id\":\"8329\",\"type\":\"ResetTool\"},{\"attributes\":{},\"id\":\"8339\",\"type\":\"DatetimeTickFormatter\"},{\"attributes\":{\"source\":{\"id\":\"8377\"}},\"id\":\"8384\",\"type\":\"CDSView\"},{\"attributes\":{},\"id\":\"8622\",\"type\":\"AllLabels\"},{\"attributes\":{\"bottom_units\":\"screen\",\"coordinates\":null,\"fill_alpha\":0.5,\"fill_color\":\"lightgrey\",\"group\":null,\"left_units\":\"screen\",\"level\":\"overlay\",\"line_alpha\":1.0,\"line_color\":\"black\",\"line_dash\":[4,4],\"line_width\":2,\"right_units\":\"screen\",\"syncable\":false,\"top_units\":\"screen\"},\"id\":\"8330\",\"type\":\"BoxAnnotation\"},{\"attributes\":{\"below\":[{\"id\":\"8317\"}],\"center\":[{\"id\":\"8320\"},{\"id\":\"8324\"}],\"height\":300,\"left\":[{\"id\":\"8321\"}],\"margin\":null,\"min_border_bottom\":10,\"min_border_left\":10,\"min_border_right\":10,\"min_border_top\":10,\"renderers\":[{\"id\":\"8350\"},{\"id\":\"8383\"}],\"right\":[{\"id\":\"8374\"}],\"sizing_mode\":\"fixed\",\"title\":{\"id\":\"8309\"},\"toolbar\":{\"id\":\"8331\"},\"toolbar_location\":null,\"width\":700,\"x_range\":{\"id\":\"8304\"},\"x_scale\":{\"id\":\"8313\"},\"y_range\":{\"id\":\"8305\"},\"y_scale\":{\"id\":\"8315\"}},\"id\":\"8308\",\"subtype\":\"Figure\",\"type\":\"Plot\"},{\"attributes\":{\"click_policy\":\"mute\",\"coordinates\":null,\"group\":null,\"items\":[{\"id\":\"8375\"},{\"id\":\"8409\"}],\"location\":[0,0],\"title\":\"Variable\"},\"id\":\"8374\",\"type\":\"Legend\"},{\"attributes\":{},\"id\":\"8625\",\"type\":\"AllLabels\"},{\"attributes\":{\"bottom\":{\"value\":0},\"fill_alpha\":{\"value\":1.0},\"fill_color\":{\"value\":\"#30a2da\"},\"hatch_alpha\":{\"value\":1.0},\"hatch_color\":{\"value\":\"#30a2da\"},\"hatch_scale\":{\"value\":12.0},\"hatch_weight\":{\"value\":1.0},\"line_alpha\":{\"value\":1.0},\"line_cap\":{\"value\":\"butt\"},\"line_color\":{\"value\":\"black\"},\"line_dash\":{\"value\":[]},\"line_dash_offset\":{\"value\":0},\"line_join\":{\"value\":\"bevel\"},\"line_width\":{\"value\":1},\"top\":{\"field\":\"Difference\"},\"width\":{\"value\":0.8},\"x\":{\"field\":\"date\"}},\"id\":\"8619\",\"type\":\"VBar\"},{\"attributes\":{},\"id\":\"8394\",\"type\":\"UnionRenderers\"},{\"attributes\":{\"data\":{\"Variable\":[\"Real\",\"Real\",\"Real\",\"Real\",\"Real\",\"Real\",\"Real\",\"Real\",\"Real\",\"Real\",\"Real\",\"Real\",\"Real\",\"Real\",\"Real\",\"Real\",\"Real\",\"Real\",\"Real\",\"Real\",\"Real\",\"Real\",\"Real\",\"Real\",\"Real\",\"Real\",\"Real\",\"Real\",\"Real\",\"Real\",\"Real\",\"Real\",\"Real\",\"Real\",\"Real\",\"Real\",\"Real\",\"Real\",\"Real\",\"Real\",\"Real\",\"Real\",\"Real\",\"Real\",\"Real\",\"Real\",\"Real\",\"Real\",\"Real\",\"Real\",\"Real\",\"Real\",\"Real\",\"Real\",\"Real\",\"Real\",\"Real\",\"Real\",\"Real\",\"Real\",\"Real\",\"Real\",\"Real\",\"Real\",\"Real\",\"Real\",\"Real\",\"Real\",\"Real\",\"Real\",\"Real\",\"Real\",\"Real\",\"Real\",\"Real\",\"Real\",\"Real\",\"Real\",\"Real\",\"Real\",\"Real\",\"Real\",\"Real\",\"Real\",\"Real\",\"Real\",\"Real\",\"Real\",\"Real\",\"Real\",\"Real\",\"Real\",\"Real\",\"Real\",\"Real\",\"Real\",\"Real\",\"Real\",\"Real\",\"Real\",\"Real\",\"Real\",\"Real\",\"Real\",\"Real\",\"Real\",\"Real\",\"Real\",\"Real\",\"Real\",\"Real\",\"Real\",\"Real\",\"Real\",\"Real\",\"Real\",\"Real\",\"Real\",\"Real\",\"Real\",\"Real\",\"Real\",\"Real\",\"Real\",\"Real\",\"Real\",\"Real\",\"Real\",\"Real\",\"Real\",\"Real\",\"Real\",\"Real\",\"Real\",\"Real\",\"Real\",\"Real\",\"Real\",\"Real\",\"Real\",\"Real\",\"Real\",\"Real\",\"Real\",\"Real\",\"Real\",\"Real\",\"Real\",\"Real\",\"Real\",\"Real\",\"Real\",\"Real\",\"Real\",\"Real\",\"Real\",\"Real\",\"Real\",\"Real\",\"Real\"],\"date\":{\"__ndarray__\":\"AABAO4OQdkIAAACh1ZB2QgAAwAYokXZCAACAbHqRdkIAAEDSzJF2QgAAADgfknZCAADAnXGSdkIAAIADxJJ2QgAAQGkWk3ZCAAAAz2iTdkIAAMA0u5N2QgAAgJoNlHZCAABAAGCUdkIAAABmspR2QgAAwMsElXZCAACAMVeVdkIAAECXqZV2QgAAAP37lXZCAADAYk6WdkIAAIDIoJZ2QgAAQC7zlnZCAAAAlEWXdkIAAMD5l5d2QgAAgF/ql3ZCAABAxTyYdkIAAAArj5h2QgAAwJDhmHZCAACA9jOZdkIAAEBchpl2QgAAAMLYmXZCAADAJyuadkIAAICNfZp2QgAAQPPPmnZCAAAAWSKbdkIAAMC+dJt2QgAAgCTHm3ZCAABAihmcdkIAAADwa5x2QgAAwFW+nHZCAACAuxCddkIAAEAhY512QgAAAIe1nXZCAADA7AeedkIAAIBSWp52QgAAQLisnnZCAAAAHv+edkIAAMCDUZ92QgAAgOmjn3ZCAABAT/afdkIAAAC1SKB2QgAAwBqboHZCAACAgO2gdkIAAEDmP6F2QgAAAEySoXZCAADAseShdkIAAIAXN6J2QgAAQH2JonZCAAAA49uidkIAAMBILqN2QgAAgK6Ao3ZCAABAFNOjdkIAAAB6JaR2QgAAwN93pHZCAACARcqkdkIAAECrHKV2QgAAABFvpXZCAADAdsGldkIAAIDcE6Z2QgAAQEJmpnZCAAAAqLimdkIAAMANC6d2QgAAgHNdp3ZCAABA2a+ndkIAAAA/Aqh2QgAAwKRUqHZCAACACqeodkIAAEBw+ah2QgAAANZLqXZCAADAO56pdkIAAICh8Kl2QgAAQAdDqnZCAAAAbZWqdkIAAMDS56p2QgAAgDg6q3ZCAABAnoyrdkIAAAAE36t2QgAAwGkxrHZCAACAz4OsdkIAAEA11qx2QgAAAJsorXZCAADAAHutdkIAAIBmza12QgAAQMwfrnZCAAAAMnKudkIAAMCXxK52QgAAgP0Wr3ZCAABAY2mvdkIAAADJu692QgAAwC4OsHZCAACAlGCwdkIAAED6srB2QgAAAGAFsXZCAADAxVexdkIAAIArqrF2QgAAQJH8sXZCAAAA906ydkIAAMBcobJ2QgAAgMLzsnZCAABAKEazdkIAAACOmLN2QgAAwPPqs3ZCAACAWT20dkIAAEC/j7R2QgAAACXitHZCAADAijS1dkIAAIDwhrV2QgAAQFbZtXZCAAAAvCu2dkIAAMAhfrZ2QgAAgIfQtnZCAABA7SK3dkIAAABTdbd2QgAAwLjHt3ZCAACAHhq4dkIAAECEbLh2QgAAAOq+uHZCAADATxG5dkIAAIC1Y7l2QgAAQBu2uXZCAAAAgQi6dkIAAMDmWrp2QgAAgEytunZCAABAsv+6dkIAAAAYUrt2QgAAwH2ku3ZCAACA4/a7dkIAAEBJSbx2QgAAAK+bvHZCAADAFO68dkIAAIB6QL12QgAAQOCSvXZCAAAARuW9dkIAAMCrN752QgAAgBGKvnZCAABAd9y+dkIAAADdLr92QgAAwEKBv3ZCAACAqNO/dkIAAEAOJsB2QgAAAHR4wHZCAADA2crAdkIAAIA/HcF2QgAAQKVvwXZCAAAAC8LBdkIAAMBwFMJ2QgAAgNZmwnZCAABAPLnCdkIAAACiC8N2QgAAwAdew3ZCAACAbbDDdkI=\",\"dtype\":\"float64\",\"order\":\"little\",\"shape\":[160]},\"value\":{\"__ndarray__\":\"vjEEAJcttEC8IvjfenW4QL4xBAA3TcNAbwwBwPXLvEDV0AZgD2q6QN8YAoBrjMBAAg8MIFxErkAAAAAAgA+2QNXQBmDPhrlAWW3+Xw/kwUAh5/1/lG25QGO1+X+9K6xARN0HIIXLvUCeSgaAQvO5QPa3BOBjyLdAZcQFoNlquEAAAAAAAIy7QJs7+l9mzb1AIef9f5ROtUCR8/4/Sta4QAlI+x+cxrhAGJ8CYHijt0AuPgXAzDu4QL4xBAAXrrRAnUoGgEJPr0C+MQQA162sQETdByDFH7tAY7X5f71uqUCGqwMgrmTGQG8MAcC1brdAelT831HtvkDV0AZgj126QB/Y8V+4165AY7X5f70luUA2d/S/TFCuQFlt/l+PkcVA4ScOoMf9q0BCzvv/KFG0QHhF8L/17q1AvCL43zrqv0BlxAWgmTy6QETdByCFiKxAhqsDIK47wUBwDAHAtQPFQETdByDFPrlAe1T83xEWw0BOJQNAYeu5QJs7+l9mqqxAAAAAAAA8r0C8IvjfuoW4QE0lA0AhHrpAeEXwv/VFrkDKiAtAswetQKaSAaAQ9sFAkfP+P4qXuEB7VPzfUei4QC0+BcBMN75AWG3+X28TwECGqwMgLpGtQB/Y8V84HK5A3Qn2X48jrUC8Ivjf+hKsQBefAmB4bbZAOIYA4Nq8wUABAAAAQAG/QApI+x9c1LlAx3n/H4VfwkDTwfo/sy66QC0+BcBM7bhAkfP+P8rtvUBDzvv/KDi4QOlg/Z/HF79AKy/5n3BmuUB6VPzfY0zAQBefAmC4T7lAZcQFoJnKrEBE3QcgxVG9QCLn/X8U57hAbwwBwPUbuEAh5/1/FDGtQJHz/j8K8bFAvCL433qar0CQ8/4/ilbBQLHa/L+eHMBALT4FwIynsEBCzvv/6Km4QJ1KBoACVrlAIef9fzQmwEBjtfl/PfOqQN8YAoBr97BARN0HIEXStUAh5/1/FNC2QJs7+l9m7bxA1NAGYA8uuUA4hgDgmqzFQG8MAcA1eMZAuyL437oDu0BXXvI/4VKuQN8YAoDribtARd0HIEV7uEBCzvv/qNizQFlt/l8PIcJATiUDQBPbwUDgGAKAqyq0QAAAAADAMr1AbwwBwLXfuUAKSPsfXH6+QL4xBAAXNbBAeVT83yNpxkAh5/1/FMKuQOAYAoALycVAvjEEADf8xUBOJQNAE/DCQGXEBaAZo7VARN0HIIWuuUBXXvI/4UyuQGXEBaCZN7hATiUDQGHxuEAg5/1/4tvCQIarAyCuNqxA/////x8qwEC8IvjfOsK8QBefAmCGCMVAkfP+PwqHv0AtPgXADEO5QIarAyDupbxAbgwBwPX9v0B6VPzfkbu2QHpU/N+jOMlAvCL433pKrECR8/4/imK4QLsi+N96bbRAs9r8v95tuUDpYP2fR2TDQIarAyCugblAKy/5n3DKuEC+MQQA1/qqQIarAyAuZrlA3xgCgJ1YxEAXnwJgWLDAQN8YAoBrFqtAAAAAAEDBs0DfGAKAHQvBQAAAAABAK8RAvSL43/rCuUCnkgGgEC7FQHhF8L919a1A6WD9n8cNuEAtPgXATAq9QPa3BOCj5rRAkfP+P8qzuUCHqwMgrhGsQL4xBADpNsBAFp8CYLhnwkDfGAKAa3O5QGTEBaCZortATSUDQCHeuEDfGAKAK0a5QE4lA0BhscRALT4FwAxmvEA=\",\"dtype\":\"float64\",\"order\":\"little\",\"shape\":[160]}},\"selected\":{\"id\":\"8345\"},\"selection_policy\":{\"id\":\"8359\"}},\"id\":\"8344\",\"type\":\"ColumnDataSource\"},{\"attributes\":{\"line_alpha\":0.2,\"line_color\":\"#30a2da\",\"line_width\":2,\"x\":{\"field\":\"date\"},\"y\":{\"field\":\"value\"}},\"id\":\"8349\",\"type\":\"Line\"},{\"attributes\":{\"children\":[{\"id\":\"8303\"},{\"id\":\"8665\"},{\"id\":\"8972\"}],\"margin\":[0,0,0,0],\"name\":\"Row10347\",\"tags\":[\"embedded\"]},\"id\":\"8302\",\"type\":\"Row\"},{\"attributes\":{\"callback\":null,\"renderers\":[{\"id\":\"8617\"}],\"tags\":[\"hv_created\"],\"tooltips\":[[\"date\",\"@{date}\"],[\"Difference\",\"@{Difference}\"]]},\"id\":\"8581\",\"type\":\"HoverTool\"},{\"attributes\":{\"source\":{\"id\":\"8344\"}},\"id\":\"8351\",\"type\":\"CDSView\"},{\"attributes\":{},\"id\":\"8624\",\"type\":\"BasicTickFormatter\"},{\"attributes\":{\"line_color\":\"#fc4f30\",\"line_width\":2,\"x\":{\"field\":\"date\"},\"y\":{\"field\":\"value\"}},\"id\":\"8410\",\"type\":\"Line\"},{\"attributes\":{\"toolbar\":{\"id\":\"8663\"},\"toolbar_location\":\"above\"},\"id\":\"8664\",\"type\":\"ToolbarBox\"},{\"attributes\":{},\"id\":\"8315\",\"type\":\"LinearScale\"},{\"attributes\":{},\"id\":\"8621\",\"type\":\"CategoricalTickFormatter\"},{\"attributes\":{\"data\":{\"Variable\":[\"Predicted\",\"Predicted\",\"Predicted\",\"Predicted\",\"Predicted\",\"Predicted\",\"Predicted\",\"Predicted\",\"Predicted\",\"Predicted\",\"Predicted\",\"Predicted\",\"Predicted\",\"Predicted\",\"Predicted\",\"Predicted\",\"Predicted\",\"Predicted\",\"Predicted\",\"Predicted\",\"Predicted\",\"Predicted\",\"Predicted\",\"Predicted\",\"Predicted\",\"Predicted\",\"Predicted\",\"Predicted\",\"Predicted\",\"Predicted\",\"Predicted\",\"Predicted\",\"Predicted\",\"Predicted\",\"Predicted\",\"Predicted\",\"Predicted\",\"Predicted\",\"Predicted\",\"Predicted\",\"Predicted\",\"Predicted\",\"Predicted\",\"Predicted\",\"Predicted\",\"Predicted\",\"Predicted\",\"Predicted\",\"Predicted\",\"Predicted\",\"Predicted\",\"Predicted\",\"Predicted\",\"Predicted\",\"Predicted\",\"Predicted\",\"Predicted\",\"Predicted\",\"Predicted\",\"Predicted\",\"Predicted\",\"Predicted\",\"Predicted\",\"Predicted\",\"Predicted\",\"Predicted\",\"Predicted\",\"Predicted\",\"Predicted\",\"Predicted\",\"Predicted\",\"Predicted\",\"Predicted\",\"Predicted\",\"Predicted\",\"Predicted\",\"Predicted\",\"Predicted\",\"Predicted\",\"Predicted\",\"Predicted\",\"Predicted\",\"Predicted\",\"Predicted\",\"Predicted\",\"Predicted\",\"Predicted\",\"Predicted\",\"Predicted\",\"Predicted\",\"Predicted\",\"Predicted\",\"Predicted\",\"Predicted\",\"Predicted\",\"Predicted\",\"Predicted\",\"Predicted\",\"Predicted\",\"Predicted\",\"Predicted\",\"Predicted\",\"Predicted\",\"Predicted\",\"Predicted\",\"Predicted\",\"Predicted\",\"Predicted\",\"Predicted\",\"Predicted\",\"Predicted\",\"Predicted\",\"Predicted\",\"Predicted\",\"Predicted\",\"Predicted\",\"Predicted\",\"Predicted\",\"Predicted\",\"Predicted\",\"Predicted\",\"Predicted\",\"Predicted\",\"Predicted\",\"Predicted\",\"Predicted\",\"Predicted\",\"Predicted\",\"Predicted\",\"Predicted\",\"Predicted\",\"Predicted\",\"Predicted\",\"Predicted\",\"Predicted\",\"Predicted\",\"Predicted\",\"Predicted\",\"Predicted\",\"Predicted\",\"Predicted\",\"Predicted\",\"Predicted\",\"Predicted\",\"Predicted\",\"Predicted\",\"Predicted\",\"Predicted\",\"Predicted\",\"Predicted\",\"Predicted\",\"Predicted\",\"Predicted\",\"Predicted\",\"Predicted\",\"Predicted\",\"Predicted\",\"Predicted\",\"Predicted\",\"Predicted\"],\"date\":{\"__ndarray__\":\"AABAO4OQdkIAAACh1ZB2QgAAwAYokXZCAACAbHqRdkIAAEDSzJF2QgAAADgfknZCAADAnXGSdkIAAIADxJJ2QgAAQGkWk3ZCAAAAz2iTdkIAAMA0u5N2QgAAgJoNlHZCAABAAGCUdkIAAABmspR2QgAAwMsElXZCAACAMVeVdkIAAECXqZV2QgAAAP37lXZCAADAYk6WdkIAAIDIoJZ2QgAAQC7zlnZCAAAAlEWXdkIAAMD5l5d2QgAAgF/ql3ZCAABAxTyYdkIAAAArj5h2QgAAwJDhmHZCAACA9jOZdkIAAEBchpl2QgAAAMLYmXZCAADAJyuadkIAAICNfZp2QgAAQPPPmnZCAAAAWSKbdkIAAMC+dJt2QgAAgCTHm3ZCAABAihmcdkIAAADwa5x2QgAAwFW+nHZCAACAuxCddkIAAEAhY512QgAAAIe1nXZCAADA7AeedkIAAIBSWp52QgAAQLisnnZCAAAAHv+edkIAAMCDUZ92QgAAgOmjn3ZCAABAT/afdkIAAAC1SKB2QgAAwBqboHZCAACAgO2gdkIAAEDmP6F2QgAAAEySoXZCAADAseShdkIAAIAXN6J2QgAAQH2JonZCAAAA49uidkIAAMBILqN2QgAAgK6Ao3ZCAABAFNOjdkIAAAB6JaR2QgAAwN93pHZCAACARcqkdkIAAECrHKV2QgAAABFvpXZCAADAdsGldkIAAIDcE6Z2QgAAQEJmpnZCAAAAqLimdkIAAMANC6d2QgAAgHNdp3ZCAABA2a+ndkIAAAA/Aqh2QgAAwKRUqHZCAACACqeodkIAAEBw+ah2QgAAANZLqXZCAADAO56pdkIAAICh8Kl2QgAAQAdDqnZCAAAAbZWqdkIAAMDS56p2QgAAgDg6q3ZCAABAnoyrdkIAAAAE36t2QgAAwGkxrHZCAACAz4OsdkIAAEA11qx2QgAAAJsorXZCAADAAHutdkIAAIBmza12QgAAQMwfrnZCAAAAMnKudkIAAMCXxK52QgAAgP0Wr3ZCAABAY2mvdkIAAADJu692QgAAwC4OsHZCAACAlGCwdkIAAED6srB2QgAAAGAFsXZCAADAxVexdkIAAIArqrF2QgAAQJH8sXZCAAAA906ydkIAAMBcobJ2QgAAgMLzsnZCAABAKEazdkIAAACOmLN2QgAAwPPqs3ZCAACAWT20dkIAAEC/j7R2QgAAACXitHZCAADAijS1dkIAAIDwhrV2QgAAQFbZtXZCAAAAvCu2dkIAAMAhfrZ2QgAAgIfQtnZCAABA7SK3dkIAAABTdbd2QgAAwLjHt3ZCAACAHhq4dkIAAECEbLh2QgAAAOq+uHZCAADATxG5dkIAAIC1Y7l2QgAAQBu2uXZCAAAAgQi6dkIAAMDmWrp2QgAAgEytunZCAABAsv+6dkIAAAAYUrt2QgAAwH2ku3ZCAACA4/a7dkIAAEBJSbx2QgAAAK+bvHZCAADAFO68dkIAAIB6QL12QgAAQOCSvXZCAAAARuW9dkIAAMCrN752QgAAgBGKvnZCAABAd9y+dkIAAADdLr92QgAAwEKBv3ZCAACAqNO/dkIAAEAOJsB2QgAAAHR4wHZCAADA2crAdkIAAIA/HcF2QgAAQKVvwXZCAAAAC8LBdkIAAMBwFMJ2QgAAgNZmwnZCAABAPLnCdkIAAACiC8N2QgAAwAdew3ZCAACAbbDDdkI=\",\"dtype\":\"float64\",\"order\":\"little\",\"shape\":[160]},\"value\":{\"__ndarray__\":\"jM6jRbsGzkWwkRpGvUr8Rfsvy0WuPglG/iFzRTCZxEU0PM9FfbIMRjlGykW7f2hFktPwRTZo0UXG6cRFnR7ORY9X2kWXpe9FhEisRWMPvkVGQMpFH/nURTcSwEXy26JFsct8RTyTZkV78OVFIKxTRSAZJkYs77hFwS72RcLZzkV5EXdFq3LTRe0RdEWuUyJGr39lRXzzn0X2LXVFDvf1Rdd1zkWsQF1Fbz0IRkuTHEZ9SM1FI0weRpLWz0UbfX1FB0h7RWQ3yEX4h89FONhzRULlU0VhDxVGElHGRSSsyUVGsgBGmEL/RfHrgkWK2o1FXTdpRTa+Z0U3I8pFZvoMRooI/EXR8MZFp74ORvho0UWlaMlFwcvvRdSq00V3CABGKP3MRQ0sBUacmstFu6ZnRX5QAUY8YctF/ty6RT/bWkXHyqBFeXB2RQMgAEbvzgBGxiZ4RTz5zEXR2shFbvYIRjYiXUUZfZJFu/69RYxSr0WUM+lF4HLNRbwcGEZ9lypGTazTRVJdeUXowNdFz6bKRW8hpUUN8g5GIu0MRrqErUWtsuRFOuzQRTDO1UXo9XxF1aYqRhNRd0XLbjdGBpInRtR2HEZRTKpFpyPMRfPmeUWdBMZFVYfARZBPC0akXmVFDjsIRl7C6kVnETdGHhUERq31yUUMweVF+kz0RScKuEUB5yxGn1xpRYxeykU94qlFQaTORTm6K0ZQZ8xF53HMRbn/ZEX4UstFiq4gRiuZBUbffl5Ff6icRUO1+UUHdBZGQVTRRWX9KEZ4aoFFZnbKRZQ92UX+OadFzbbPRcFpYkXa6vpFLqEkRi6U4UUiqNlFbfHLRWP4zEWjBBhGUYDiRQ==\",\"dtype\":\"float32\",\"order\":\"little\",\"shape\":[160]}},\"selected\":{\"id\":\"8378\"},\"selection_policy\":{\"id\":\"8394\"}},\"id\":\"8377\",\"type\":\"ColumnDataSource\"},{\"attributes\":{},\"id\":\"8359\",\"type\":\"UnionRenderers\"},{\"attributes\":{\"data\":{\"Difference\":{\"__ndarray__\":\"gJDz/p8OU8BA1H0AyLV0wAAIOe//+yPAiJz3/w7rhcBQDW0AAEFwQCDkvP9HbXPAAP7w85/jL8AAAAAAMB2EwMDKS/7HLVjAQFab/+9vY0CAkPP+r2ZCQKBTyQA8h1zAAK8I/ke7U8AAsdr8H+JMwEABaf+bmmrAsLmj/5+PdcAAAAAAiENQQIAy4gJApkPAgG8MAQA+TcAQOe//3UVxQOD+lgCULWDAQAfr/1vdh8AAF58C8MJMQIBvDAEwplRAwFht/ueMQsAAIef9P0gywMArgv+j5HnA0KlkAGhsYMBguDoAohiKQMAbQwAQNFRAAD0q/t+8Q0CgGtoA5EpgQADCTxyA7RTA0KlkAH6JdMAAZcQFcPg4wJDV5v+ZcYRA4AM7/sdFVsCAkPP+X65UQABR9wEg2VbAwCuC/5G1ckBAGXEBsHdbQICo+wD0DVxAAMPVASAAWkAAxxAAxhSHQACvCP6fklrAoHB1AFBudsAAZLX5/+EuwCgjLgDoKXjAAAAAAHCANsCAqPsANCZgwICmkgEgkUZAAETdB6CIOsBQRlwAWFh0QECrzf9ve3XAgDeGAABMScBA4eoAqExTwDAdrP9LVH/AAFht/t9FT0DQo+L/cE55wISfOICoaYXAABixTwDi+r+AqPsAfJlcwEgH6/9zt4bAADiGACCOTUDA////T/RfwEABaf8/yG5A4Djv/wf2cEAAMB2s/0P5P4DpYP3v40/AAN4YAsBbJ8DojSEAjOmBwODiUwDESm3AgGpoAzCaTMCA4eoAcEdmwIB0sP6PzUHAgM0d/d8eNcDgFcH/0hKIwMAbQwBgomDA4I0hAMAKaEAQct7/yVptQHhjCAB1QoHAgFcE/3eNWUAAOe//nSiFQACI1eb/BhZA0OJTAAZSckDAN4YA0KduwIBOJQMwVE1A4BtDACgTf8CgU8kAKCFWwBBy3v95g3XAwCuC/yPZfsAg5Lz/X7hsQIAy4gIQhkzAgOUl/5MJYMDAMQQAG0iVQPDGEABiVIJAYFcE/yfGYUAgNbQBIBlbwOAbQwDQOWJAYFcE/5cya8DAN4YAnHBpwEBWm/9vs2BAAKeSAYC3XkAAct7/u154wAAAAABMjWNAgMh5/7/oTsBQQNr/sCSOQIBvDAEgbllAkEfF/5NEgUCAbwwB8AY0wABy3v/dTILA4BtDAGSfgEBAVpv/59hzwEAZcQHgY1ZAAKLuAyAIRUAgNbQBpP9dwGBzR/8/H2HAwKlkANQObEAAct7/Bx+HQIAeFf+XSU3AIAAAADioe8CAqPsAHMJiwJAO1v9nmo3A8MYQANTjd8AAtPgUgFwRQAB6VPxfMzLA4MYQAGhFd0CA4eoAwGxRwNCj4v8d3pxAgKj7ACAjXMDgjSEA6ChtwKCo+wCY2WnAQFPJAFiqWcC4+BQA/JeQwAD0qPi/dybAoBraAIh5aMAg5Lz/AVJqwADoUfF/wxDAwDeGABCzYEAASAfr/2cWwCDkvP8LLlfAAAAAABAYRkDwjSEAlfyGQAAAAADyy4VAwFD3AVDjWcAATiUDAMg8QEDUfQBCKXPAcPEpAFIQdMDQ4lMApCl+QABAAWn/e+O/wBtDANjDUMCAPCr+/8Q9wMA3hgBsB3FAUAfr/2pjkcAIOe//0fiFwAAZcQFYZVtAYFab/4sBZMBAyHn/NzhWwOBUMgDODItAAC0+BaACNkA=\",\"dtype\":\"float64\",\"order\":\"little\",\"shape\":[160]},\"date\":[\"2019-02-20 00:00:00\",\"2019-02-21 00:00:00\",\"2019-02-22 00:00:00\",\"2019-02-23 00:00:00\",\"2019-02-24 00:00:00\",\"2019-02-25 00:00:00\",\"2019-02-26 00:00:00\",\"2019-02-27 00:00:00\",\"2019-02-28 00:00:00\",\"2019-03-01 00:00:00\",\"2019-03-02 00:00:00\",\"2019-03-03 00:00:00\",\"2019-03-04 00:00:00\",\"2019-03-05 00:00:00\",\"2019-03-06 00:00:00\",\"2019-03-07 00:00:00\",\"2019-03-08 00:00:00\",\"2019-03-09 00:00:00\",\"2019-03-10 00:00:00\",\"2019-03-11 00:00:00\",\"2019-03-12 00:00:00\",\"2019-03-13 00:00:00\",\"2019-03-14 00:00:00\",\"2019-03-15 00:00:00\",\"2019-03-16 00:00:00\",\"2019-03-17 00:00:00\",\"2019-03-18 00:00:00\",\"2019-03-19 00:00:00\",\"2019-03-20 00:00:00\",\"2019-03-21 00:00:00\",\"2019-03-22 00:00:00\",\"2019-03-23 00:00:00\",\"2019-03-24 00:00:00\",\"2019-03-25 00:00:00\",\"2019-03-26 00:00:00\",\"2019-03-27 00:00:00\",\"2019-03-28 00:00:00\",\"2019-03-29 00:00:00\",\"2019-03-30 00:00:00\",\"2019-03-31 00:00:00\",\"2019-04-01 00:00:00\",\"2019-04-02 00:00:00\",\"2019-04-03 00:00:00\",\"2019-04-04 00:00:00\",\"2019-04-05 00:00:00\",\"2019-04-06 00:00:00\",\"2019-04-07 00:00:00\",\"2019-04-08 00:00:00\",\"2019-04-09 00:00:00\",\"2019-04-10 00:00:00\",\"2019-04-11 00:00:00\",\"2019-04-12 00:00:00\",\"2019-04-13 00:00:00\",\"2019-04-14 00:00:00\",\"2019-04-15 00:00:00\",\"2019-04-16 00:00:00\",\"2019-04-17 00:00:00\",\"2019-04-18 00:00:00\",\"2019-04-19 00:00:00\",\"2019-04-20 00:00:00\",\"2019-04-21 00:00:00\",\"2019-04-22 00:00:00\",\"2019-04-23 00:00:00\",\"2019-04-24 00:00:00\",\"2019-04-25 00:00:00\",\"2019-04-26 00:00:00\",\"2019-04-27 00:00:00\",\"2019-04-28 00:00:00\",\"2019-04-29 00:00:00\",\"2019-04-30 00:00:00\",\"2019-05-01 00:00:00\",\"2019-05-02 00:00:00\",\"2019-05-03 00:00:00\",\"2019-05-04 00:00:00\",\"2019-05-05 00:00:00\",\"2019-05-06 00:00:00\",\"2019-05-07 00:00:00\",\"2019-05-08 00:00:00\",\"2019-05-09 00:00:00\",\"2019-05-10 00:00:00\",\"2019-05-11 00:00:00\",\"2019-05-12 00:00:00\",\"2019-05-13 00:00:00\",\"2019-05-14 00:00:00\",\"2019-05-15 00:00:00\",\"2019-05-16 00:00:00\",\"2019-05-17 00:00:00\",\"2019-05-18 00:00:00\",\"2019-05-19 00:00:00\",\"2019-05-20 00:00:00\",\"2019-05-21 00:00:00\",\"2019-05-22 00:00:00\",\"2019-05-23 00:00:00\",\"2019-05-24 00:00:00\",\"2019-05-25 00:00:00\",\"2019-05-26 00:00:00\",\"2019-05-27 00:00:00\",\"2019-05-28 00:00:00\",\"2019-05-29 00:00:00\",\"2019-05-30 00:00:00\",\"2019-05-31 00:00:00\",\"2019-06-01 00:00:00\",\"2019-06-02 00:00:00\",\"2019-06-03 00:00:00\",\"2019-06-04 00:00:00\",\"2019-06-05 00:00:00\",\"2019-06-06 00:00:00\",\"2019-06-07 00:00:00\",\"2019-06-08 00:00:00\",\"2019-06-09 00:00:00\",\"2019-06-10 00:00:00\",\"2019-06-11 00:00:00\",\"2019-06-12 00:00:00\",\"2019-06-13 00:00:00\",\"2019-06-14 00:00:00\",\"2019-06-15 00:00:00\",\"2019-06-16 00:00:00\",\"2019-06-17 00:00:00\",\"2019-06-18 00:00:00\",\"2019-06-19 00:00:00\",\"2019-06-20 00:00:00\",\"2019-06-21 00:00:00\",\"2019-06-22 00:00:00\",\"2019-06-23 00:00:00\",\"2019-06-24 00:00:00\",\"2019-06-25 00:00:00\",\"2019-06-26 00:00:00\",\"2019-06-27 00:00:00\",\"2019-06-28 00:00:00\",\"2019-06-29 00:00:00\",\"2019-06-30 00:00:00\",\"2019-07-01 00:00:00\",\"2019-07-02 00:00:00\",\"2019-07-03 00:00:00\",\"2019-07-04 00:00:00\",\"2019-07-05 00:00:00\",\"2019-07-06 00:00:00\",\"2019-07-07 00:00:00\",\"2019-07-08 00:00:00\",\"2019-07-09 00:00:00\",\"2019-07-10 00:00:00\",\"2019-07-11 00:00:00\",\"2019-07-12 00:00:00\",\"2019-07-13 00:00:00\",\"2019-07-14 00:00:00\",\"2019-07-15 00:00:00\",\"2019-07-16 00:00:00\",\"2019-07-17 00:00:00\",\"2019-07-18 00:00:00\",\"2019-07-19 00:00:00\",\"2019-07-20 00:00:00\",\"2019-07-21 00:00:00\",\"2019-07-22 00:00:00\",\"2019-07-23 00:00:00\",\"2019-07-24 00:00:00\",\"2019-07-25 00:00:00\",\"2019-07-26 00:00:00\",\"2019-07-27 00:00:00\",\"2019-07-28 00:00:00\",\"2019-07-29 00:00:00\"]},\"selected\":{\"id\":\"8612\"},\"selection_policy\":{\"id\":\"8658\"}},\"id\":\"8611\",\"type\":\"ColumnDataSource\"},{\"attributes\":{\"callback\":null,\"formatters\":{\"@{date}\":\"datetime\"},\"renderers\":[{\"id\":\"8350\"},{\"id\":\"8383\"}],\"tags\":[\"hv_created\"],\"tooltips\":[[\"Variable\",\"@{Variable}\"],[\"date\",\"@{date}{%F %T}\"],[\"value\",\"@{value}\"]]},\"id\":\"8306\",\"type\":\"HoverTool\"},{\"attributes\":{\"margin\":[5,5,5,5],\"name\":\"HSpacer10351\",\"sizing_mode\":\"stretch_width\"},\"id\":\"8303\",\"type\":\"Spacer\"},{\"attributes\":{},\"id\":\"8343\",\"type\":\"AllLabels\"},{\"attributes\":{\"label\":{\"value\":\"Predicted\"},\"renderers\":[{\"id\":\"8383\"}]},\"id\":\"8409\",\"type\":\"LegendItem\"},{\"attributes\":{\"margin\":[5,5,5,5],\"name\":\"HSpacer10352\",\"sizing_mode\":\"stretch_width\"},\"id\":\"8972\",\"type\":\"Spacer\"},{\"attributes\":{\"end\":13879.0712886,\"reset_end\":13879.0712886,\"reset_start\":2289.5791013999997,\"start\":2289.5791013999997,\"tags\":[[[\"value\",\"value\",null]]]},\"id\":\"8305\",\"type\":\"Range1d\"},{\"attributes\":{},\"id\":\"8589\",\"type\":\"LinearScale\"},{\"attributes\":{\"mantissas\":[1,2,5],\"max_interval\":500.0,\"num_minor_ticks\":0},\"id\":\"8362\",\"type\":\"AdaptiveTicker\"},{\"attributes\":{},\"id\":\"8340\",\"type\":\"AllLabels\"},{\"attributes\":{},\"id\":\"8612\",\"type\":\"Selection\"},{\"attributes\":{\"coordinates\":null,\"group\":null,\"text_color\":\"black\",\"text_font_size\":\"12pt\"},\"id\":\"8583\",\"type\":\"Title\"},{\"attributes\":{\"children\":[[{\"id\":\"8308\"},0,0],[{\"id\":\"8582\"},0,1]]},\"id\":\"8662\",\"type\":\"GridBox\"},{\"attributes\":{\"base\":24,\"mantissas\":[1,2,4,6,8,12],\"max_interval\":43200000.0,\"min_interval\":3600000.0,\"num_minor_ticks\":0},\"id\":\"8364\",\"type\":\"AdaptiveTicker\"},{\"attributes\":{\"children\":[{\"id\":\"8664\"},{\"id\":\"8662\"}]},\"id\":\"8665\",\"type\":\"Column\"},{\"attributes\":{\"factors\":[\"2019-02-20 00:00:00\",\"2019-02-21 00:00:00\",\"2019-02-22 00:00:00\",\"2019-02-23 00:00:00\",\"2019-02-24 00:00:00\",\"2019-02-25 00:00:00\",\"2019-02-26 00:00:00\",\"2019-02-27 00:00:00\",\"2019-02-28 00:00:00\",\"2019-03-01 00:00:00\",\"2019-03-02 00:00:00\",\"2019-03-03 00:00:00\",\"2019-03-04 00:00:00\",\"2019-03-05 00:00:00\",\"2019-03-06 00:00:00\",\"2019-03-07 00:00:00\",\"2019-03-08 00:00:00\",\"2019-03-09 00:00:00\",\"2019-03-10 00:00:00\",\"2019-03-11 00:00:00\",\"2019-03-12 00:00:00\",\"2019-03-13 00:00:00\",\"2019-03-14 00:00:00\",\"2019-03-15 00:00:00\",\"2019-03-16 00:00:00\",\"2019-03-17 00:00:00\",\"2019-03-18 00:00:00\",\"2019-03-19 00:00:00\",\"2019-03-20 00:00:00\",\"2019-03-21 00:00:00\",\"2019-03-22 00:00:00\",\"2019-03-23 00:00:00\",\"2019-03-24 00:00:00\",\"2019-03-25 00:00:00\",\"2019-03-26 00:00:00\",\"2019-03-27 00:00:00\",\"2019-03-28 00:00:00\",\"2019-03-29 00:00:00\",\"2019-03-30 00:00:00\",\"2019-03-31 00:00:00\",\"2019-04-01 00:00:00\",\"2019-04-02 00:00:00\",\"2019-04-03 00:00:00\",\"2019-04-04 00:00:00\",\"2019-04-05 00:00:00\",\"2019-04-06 00:00:00\",\"2019-04-07 00:00:00\",\"2019-04-08 00:00:00\",\"2019-04-09 00:00:00\",\"2019-04-10 00:00:00\",\"2019-04-11 00:00:00\",\"2019-04-12 00:00:00\",\"2019-04-13 00:00:00\",\"2019-04-14 00:00:00\",\"2019-04-15 00:00:00\",\"2019-04-16 00:00:00\",\"2019-04-17 00:00:00\",\"2019-04-18 00:00:00\",\"2019-04-19 00:00:00\",\"2019-04-20 00:00:00\",\"2019-04-21 00:00:00\",\"2019-04-22 00:00:00\",\"2019-04-23 00:00:00\",\"2019-04-24 00:00:00\",\"2019-04-25 00:00:00\",\"2019-04-26 00:00:00\",\"2019-04-27 00:00:00\",\"2019-04-28 00:00:00\",\"2019-04-29 00:00:00\",\"2019-04-30 00:00:00\",\"2019-05-01 00:00:00\",\"2019-05-02 00:00:00\",\"2019-05-03 00:00:00\",\"2019-05-04 00:00:00\",\"2019-05-05 00:00:00\",\"2019-05-06 00:00:00\",\"2019-05-07 00:00:00\",\"2019-05-08 00:00:00\",\"2019-05-09 00:00:00\",\"2019-05-10 00:00:00\",\"2019-05-11 00:00:00\",\"2019-05-12 00:00:00\",\"2019-05-13 00:00:00\",\"2019-05-14 00:00:00\",\"2019-05-15 00:00:00\",\"2019-05-16 00:00:00\",\"2019-05-17 00:00:00\",\"2019-05-18 00:00:00\",\"2019-05-19 00:00:00\",\"2019-05-20 00:00:00\",\"2019-05-21 00:00:00\",\"2019-05-22 00:00:00\",\"2019-05-23 00:00:00\",\"2019-05-24 00:00:00\",\"2019-05-25 00:00:00\",\"2019-05-26 00:00:00\",\"2019-05-27 00:00:00\",\"2019-05-28 00:00:00\",\"2019-05-29 00:00:00\",\"2019-05-30 00:00:00\",\"2019-05-31 00:00:00\",\"2019-06-01 00:00:00\",\"2019-06-02 00:00:00\",\"2019-06-03 00:00:00\",\"2019-06-04 00:00:00\",\"2019-06-05 00:00:00\",\"2019-06-06 00:00:00\",\"2019-06-07 00:00:00\",\"2019-06-08 00:00:00\",\"2019-06-09 00:00:00\",\"2019-06-10 00:00:00\",\"2019-06-11 00:00:00\",\"2019-06-12 00:00:00\",\"2019-06-13 00:00:00\",\"2019-06-14 00:00:00\",\"2019-06-15 00:00:00\",\"2019-06-16 00:00:00\",\"2019-06-17 00:00:00\",\"2019-06-18 00:00:00\",\"2019-06-19 00:00:00\",\"2019-06-20 00:00:00\",\"2019-06-21 00:00:00\",\"2019-06-22 00:00:00\",\"2019-06-23 00:00:00\",\"2019-06-24 00:00:00\",\"2019-06-25 00:00:00\",\"2019-06-26 00:00:00\",\"2019-06-27 00:00:00\",\"2019-06-28 00:00:00\",\"2019-06-29 00:00:00\",\"2019-06-30 00:00:00\",\"2019-07-01 00:00:00\",\"2019-07-02 00:00:00\",\"2019-07-03 00:00:00\",\"2019-07-04 00:00:00\",\"2019-07-05 00:00:00\",\"2019-07-06 00:00:00\",\"2019-07-07 00:00:00\",\"2019-07-08 00:00:00\",\"2019-07-09 00:00:00\",\"2019-07-10 00:00:00\",\"2019-07-11 00:00:00\",\"2019-07-12 00:00:00\",\"2019-07-13 00:00:00\",\"2019-07-14 00:00:00\",\"2019-07-15 00:00:00\",\"2019-07-16 00:00:00\",\"2019-07-17 00:00:00\",\"2019-07-18 00:00:00\",\"2019-07-19 00:00:00\",\"2019-07-20 00:00:00\",\"2019-07-21 00:00:00\",\"2019-07-22 00:00:00\",\"2019-07-23 00:00:00\",\"2019-07-24 00:00:00\",\"2019-07-25 00:00:00\",\"2019-07-26 00:00:00\",\"2019-07-27 00:00:00\",\"2019-07-28 00:00:00\",\"2019-07-29 00:00:00\"],\"tags\":[[[\"date\",\"date\",null]]]},\"id\":\"8579\",\"type\":\"FactorRange\"},{\"attributes\":{\"base\":60,\"mantissas\":[1,2,5,10,15,20,30],\"max_interval\":1800000.0,\"min_interval\":1000.0,\"num_minor_ticks\":0},\"id\":\"8363\",\"type\":\"AdaptiveTicker\"},{\"attributes\":{},\"id\":\"8587\",\"type\":\"CategoricalScale\"},{\"attributes\":{},\"id\":\"8342\",\"type\":\"BasicTickFormatter\"},{\"attributes\":{\"end\":1564358400000.0,\"reset_end\":1564358400000.0,\"reset_start\":1550620800000.0,\"start\":1550620800000.0,\"tags\":[[[\"date\",\"date\",null]]]},\"id\":\"8304\",\"type\":\"Range1d\"},{\"attributes\":{},\"id\":\"8658\",\"type\":\"UnionRenderers\"},{\"attributes\":{\"axis\":{\"id\":\"8317\"},\"coordinates\":null,\"grid_line_color\":null,\"group\":null,\"ticker\":null},\"id\":\"8320\",\"type\":\"Grid\"},{\"attributes\":{\"below\":[{\"id\":\"8591\"}],\"center\":[{\"id\":\"8593\"},{\"id\":\"8597\"}],\"height\":300,\"left\":[{\"id\":\"8594\"}],\"margin\":null,\"min_border_bottom\":10,\"min_border_left\":10,\"min_border_right\":10,\"min_border_top\":10,\"renderers\":[{\"id\":\"8617\"}],\"sizing_mode\":\"fixed\",\"title\":{\"id\":\"8583\"},\"toolbar\":{\"id\":\"8604\"},\"toolbar_location\":null,\"width\":700,\"x_range\":{\"id\":\"8579\"},\"x_scale\":{\"id\":\"8587\"},\"y_range\":{\"id\":\"8580\"},\"y_scale\":{\"id\":\"8589\"}},\"id\":\"8582\",\"subtype\":\"Figure\",\"type\":\"Plot\"},{\"attributes\":{\"days\":[1,2,3,4,5,6,7,8,9,10,11,12,13,14,15,16,17,18,19,20,21,22,23,24,25,26,27,28,29,30,31]},\"id\":\"8365\",\"type\":\"DaysTicker\"},{\"attributes\":{},\"id\":\"8313\",\"type\":\"LinearScale\"},{\"attributes\":{\"axis_label\":\"date\",\"coordinates\":null,\"formatter\":{\"id\":\"8621\"},\"group\":null,\"major_label_policy\":{\"id\":\"8622\"},\"ticker\":{\"id\":\"8592\"}},\"id\":\"8591\",\"type\":\"CategoricalAxis\"},{\"attributes\":{\"axis_label\":\"date\",\"coordinates\":null,\"formatter\":{\"id\":\"8339\"},\"group\":null,\"major_label_policy\":{\"id\":\"8340\"},\"ticker\":{\"id\":\"8318\"}},\"id\":\"8317\",\"type\":\"DatetimeAxis\"},{\"attributes\":{\"days\":[1,4,7,10,13,16,19,22,25,28]},\"id\":\"8366\",\"type\":\"DaysTicker\"},{\"attributes\":{\"days\":[1,8,15,22]},\"id\":\"8367\",\"type\":\"DaysTicker\"},{\"attributes\":{\"axis_label\":\"Difference\",\"coordinates\":null,\"formatter\":{\"id\":\"8624\"},\"group\":null,\"major_label_policy\":{\"id\":\"8625\"},\"ticker\":{\"id\":\"8595\"}},\"id\":\"8594\",\"type\":\"LinearAxis\"},{\"attributes\":{\"axis\":{\"id\":\"8591\"},\"coordinates\":null,\"grid_line_color\":null,\"group\":null,\"ticker\":null},\"id\":\"8593\",\"type\":\"Grid\"},{\"attributes\":{\"num_minor_ticks\":5,\"tickers\":[{\"id\":\"8362\"},{\"id\":\"8363\"},{\"id\":\"8364\"},{\"id\":\"8365\"},{\"id\":\"8366\"},{\"id\":\"8367\"},{\"id\":\"8368\"},{\"id\":\"8369\"},{\"id\":\"8370\"},{\"id\":\"8371\"},{\"id\":\"8372\"},{\"id\":\"8373\"}]},\"id\":\"8318\",\"type\":\"DatetimeTicker\"},{\"attributes\":{\"days\":[1,15]},\"id\":\"8368\",\"type\":\"DaysTicker\"},{\"attributes\":{},\"id\":\"8592\",\"type\":\"CategoricalTicker\"},{\"attributes\":{\"months\":[0,4,8]},\"id\":\"8371\",\"type\":\"MonthsTicker\"},{\"attributes\":{\"months\":[0,1,2,3,4,5,6,7,8,9,10,11]},\"id\":\"8369\",\"type\":\"MonthsTicker\"},{\"attributes\":{\"coordinates\":null,\"group\":null,\"text_color\":\"black\",\"text_font_size\":\"12pt\"},\"id\":\"8309\",\"type\":\"Title\"}],\"root_ids\":[\"8302\"]},\"title\":\"Bokeh Application\",\"version\":\"2.4.2\"}};\n",
       "    var render_items = [{\"docid\":\"829a94f3-69d2-45b6-8cd9-c87fb9d66e3d\",\"root_ids\":[\"8302\"],\"roots\":{\"8302\":\"5383d46c-25a1-462c-850a-ad6aaf695656\"}}];\n",
       "    root.Bokeh.embed.embed_items_notebook(docs_json, render_items);\n",
       "  }\n",
       "  if (root.Bokeh !== undefined && root.Bokeh.Panel !== undefined) {\n",
       "    embed_document(root);\n",
       "  } else {\n",
       "    var attempts = 0;\n",
       "    var timer = setInterval(function(root) {\n",
       "      if (root.Bokeh !== undefined && root.Bokeh.Panel !== undefined) {\n",
       "        clearInterval(timer);\n",
       "        embed_document(root);\n",
       "      } else if (document.readyState == \"complete\") {\n",
       "        attempts++;\n",
       "        if (attempts > 200) {\n",
       "          clearInterval(timer);\n",
       "          console.log(\"Bokeh: ERROR: Unable to run BokehJS code because BokehJS library is missing\");\n",
       "        }\n",
       "      }\n",
       "    }, 25, root)\n",
       "  }\n",
       "})(window);</script>"
      ],
      "text/plain": [
       ":Layout\n",
       "   .NdOverlay.I :NdOverlay   [Variable]\n",
       "      :Curve   [date]   (value)\n",
       "   .Bars.I      :Bars   [date]   (Difference)"
      ]
     },
     "execution_count": 71,
     "metadata": {
      "application/vnd.holoviews_exec.v0+json": {
       "id": "8302"
      }
     },
     "output_type": "execute_result"
    }
   ],
   "source": [
    "# Plot the real vs predicted values as a line chart / Add the diff plot to visualize the error\n",
    "stocks.hvplot(x ='date', y=['Real', 'Predicted']) + stocks.hvplot.bar( y='Difference')"
   ]
  },
  {
   "cell_type": "code",
   "execution_count": null,
   "metadata": {},
   "outputs": [],
   "source": []
  }
 ],
 "metadata": {
  "file_extension": ".py",
  "interpreter": {
   "hash": "86969af4118fd2beaee010b14a97d3c8fe7dc31ff55f1528eea7eaecb45368d6"
  },
  "kernelspec": {
   "display_name": "Python [conda env:mlenv] *",
   "language": "python",
   "name": "python3"
  },
  "language_info": {
   "codemirror_mode": {
    "name": "ipython",
    "version": 3
   },
   "file_extension": ".py",
   "mimetype": "text/x-python",
   "name": "python",
   "nbconvert_exporter": "python",
   "pygments_lexer": "ipython3",
   "version": "3.7.7"
  },
  "mimetype": "text/x-python",
  "name": "python",
  "npconvert_exporter": "python",
  "pygments_lexer": "ipython3",
  "version": 3
 },
 "nbformat": 4,
 "nbformat_minor": 4
}
